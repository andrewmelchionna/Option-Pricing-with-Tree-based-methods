{
 "cells": [
  {
   "cell_type": "code",
   "execution_count": null,
   "id": "9394dfc4",
   "metadata": {},
   "outputs": [],
   "source": [
    "import numpy as np\n",
    "from sklearn.tree import DecisionTreeRegressor"
   ]
  },
  {
   "cell_type": "code",
   "execution_count": null,
   "id": "5d870ba8",
   "metadata": {},
   "outputs": [],
   "source": [
    "\"\"\"\n",
    "b:= number of paths\n",
    "d:= dimension of state space\n",
    "m:= length of path\n",
    "max_depth:= max depth of trees\n",
    "\"\"\"\n",
    "b = 3\n",
    "d = 3\n",
    "m = 5\n",
    "max_depth = 5\n",
    "\n",
    "trees = []"
   ]
  },
  {
   "cell_type": "code",
   "execution_count": null,
   "id": "e7552fa5",
   "metadata": {},
   "outputs": [],
   "source": [
    "#base case\n",
    "V_hat = np.zeros((m+1,b))\n",
    "V_hat[m,:] = option_value(m,m,X)\n",
    "\n",
    "#inductive step\n",
    "for t in range(m-1,-1,-1):\n",
    "    current_tree = DecisionTreeRegressor(max_depth)\n",
    "    current_tree.fit(X[t,:],V_hat[t+1])\n",
    "    V_hat[t] = np.max(option_value(t,m,X[t,:]),current_tree(X[t,:]))"
   ]
  },
  {
   "cell_type": "code",
   "execution_count": null,
   "id": "8d3bf13c",
   "metadata": {},
   "outputs": [],
   "source": []
  }
 ],
 "metadata": {
  "kernelspec": {
   "display_name": "Python 3 (ipykernel)",
   "language": "python",
   "name": "python3"
  },
  "language_info": {
   "codemirror_mode": {
    "name": "ipython",
    "version": 3
   },
   "file_extension": ".py",
   "mimetype": "text/x-python",
   "name": "python",
   "nbconvert_exporter": "python",
   "pygments_lexer": "ipython3",
   "version": "3.9.7"
  }
 },
 "nbformat": 4,
 "nbformat_minor": 5
}
