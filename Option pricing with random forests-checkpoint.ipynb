{
 "cells": [
  {
   "cell_type": "code",
   "execution_count": 3,
   "id": "9394dfc4",
   "metadata": {},
   "outputs": [],
   "source": [
    "import numpy as np\n",
    "from sklearn.tree import DecisionTreeRegressor"
   ]
  },
  {
   "cell_type": "code",
   "execution_count": 4,
   "id": "5d870ba8",
   "metadata": {},
   "outputs": [],
   "source": [
    "\"\"\"\n",
    "b:= number of paths\n",
    "d:= dimension of state space\n",
    "m:= length of path\n",
    "max_depth:= max depth of trees\n",
    "\"\"\"\n",
    "b = 30\n",
    "d = 3\n",
    "m = 10\n",
    "maxdepth = 5\n",
    "\n",
    "trees = []"
   ]
  },
  {
   "cell_type": "code",
   "execution_count": 59,
   "id": "e7552fa5",
   "metadata": {},
   "outputs": [],
   "source": [
    "#base case\n",
    "V_hat = np.zeros((m+1,b))\n",
    "V_hat[m,:] = option_value(m,m,X)\n",
    "\n",
    "#inductive step\n",
    "for t in range(m-1,-1,-1):\n",
    "    current_tree = DecisionTreeRegressor(max_depth = maxdepth)\n",
    "    current_tree.fit(X[t].reshape((np.shape(X)[1],np.shape(X)[2])),V_hat[t+1])\n",
    "    V_hat[t] = np.maximum(option_value(t,m,X),current_tree.predict(X[t]))"
   ]
  },
  {
   "cell_type": "code",
   "execution_count": 46,
   "id": "8d3bf13c",
   "metadata": {},
   "outputs": [],
   "source": [
    "def option_value(t,m,X):\n",
    "    return X[t,:,0]"
   ]
  },
  {
   "cell_type": "code",
   "execution_count": 62,
   "id": "67df508c",
   "metadata": {},
   "outputs": [],
   "source": [
    "X = np.fromfunction(lambda i, j, k: i*(m+1-i), (m+1, b, 1), dtype=float) + np.random.normal(0, 1, size=(m+1, b, 1))"
   ]
  },
  {
   "cell_type": "code",
   "execution_count": 9,
   "id": "24049812",
   "metadata": {},
   "outputs": [],
   "source": [
    "def gbm(S_0, mu, sigma, m, b):\n",
    "    result = np.full((m+1, b), S_0)\n",
    "    for i in range(1,m+1):\n",
    "        for j in range(b):\n",
    "            result[i,j] = result[i-1,j]*np.exp((mu-(sigma**2)/2)/m + sigma*(np.sqrt(1/m)*np.random.standard_normal()))"
   ]
  },
  {
   "cell_type": "code",
   "execution_count": null,
   "id": "58bda7b8",
   "metadata": {},
   "outputs": [],
   "source": []
  },
  {
   "cell_type": "code",
   "execution_count": null,
   "id": "030b1a38",
   "metadata": {},
   "outputs": [],
   "source": []
  },
  {
   "cell_type": "code",
   "execution_count": null,
   "id": "c0a6948a",
   "metadata": {},
   "outputs": [],
   "source": []
  }
 ],
 "metadata": {
  "kernelspec": {
   "display_name": "Python 3 (ipykernel)",
   "language": "python",
   "name": "python3"
  },
  "language_info": {
   "codemirror_mode": {
    "name": "ipython",
    "version": 3
   },
   "file_extension": ".py",
   "mimetype": "text/x-python",
   "name": "python",
   "nbconvert_exporter": "python",
   "pygments_lexer": "ipython3",
   "version": "3.9.7"
  }
 },
 "nbformat": 4,
 "nbformat_minor": 5
}
